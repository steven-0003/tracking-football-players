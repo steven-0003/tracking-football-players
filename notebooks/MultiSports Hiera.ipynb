{
  "cells": [
    {
      "cell_type": "code",
      "source": [
        "!pip install fvcore"
      ],
      "metadata": {
        "colab": {
          "base_uri": "https://localhost:8080/"
        },
        "id": "DdTwLT-raLv5",
        "outputId": "793fd122-3733-4201-e2c8-15cd48f5d27d"
      },
      "execution_count": 1,
      "outputs": [
        {
          "output_type": "stream",
          "name": "stdout",
          "text": [
            "Collecting fvcore\n",
            "  Downloading fvcore-0.1.5.post20221221.tar.gz (50 kB)\n",
            "\u001b[2K     \u001b[90m━━━━━━━━━━━━━━━━━━━━━━━━━━━━━━━━━━━━━━━━\u001b[0m \u001b[32m50.2/50.2 kB\u001b[0m \u001b[31m2.2 MB/s\u001b[0m eta \u001b[36m0:00:00\u001b[0m\n",
            "\u001b[?25h  Preparing metadata (setup.py) ... \u001b[?25l\u001b[?25hdone\n",
            "Requirement already satisfied: numpy in /usr/local/lib/python3.11/dist-packages (from fvcore) (2.0.2)\n",
            "Collecting yacs>=0.1.6 (from fvcore)\n",
            "  Downloading yacs-0.1.8-py3-none-any.whl.metadata (639 bytes)\n",
            "Requirement already satisfied: pyyaml>=5.1 in /usr/local/lib/python3.11/dist-packages (from fvcore) (6.0.2)\n",
            "Requirement already satisfied: tqdm in /usr/local/lib/python3.11/dist-packages (from fvcore) (4.67.1)\n",
            "Requirement already satisfied: termcolor>=1.1 in /usr/local/lib/python3.11/dist-packages (from fvcore) (3.1.0)\n",
            "Requirement already satisfied: Pillow in /usr/local/lib/python3.11/dist-packages (from fvcore) (11.2.1)\n",
            "Requirement already satisfied: tabulate in /usr/local/lib/python3.11/dist-packages (from fvcore) (0.9.0)\n",
            "Collecting iopath>=0.1.7 (from fvcore)\n",
            "  Downloading iopath-0.1.10.tar.gz (42 kB)\n",
            "\u001b[2K     \u001b[90m━━━━━━━━━━━━━━━━━━━━━━━━━━━━━━━━━━━━━━━━\u001b[0m \u001b[32m42.2/42.2 kB\u001b[0m \u001b[31m3.5 MB/s\u001b[0m eta \u001b[36m0:00:00\u001b[0m\n",
            "\u001b[?25h  Preparing metadata (setup.py) ... \u001b[?25l\u001b[?25hdone\n",
            "Requirement already satisfied: typing_extensions in /usr/local/lib/python3.11/dist-packages (from iopath>=0.1.7->fvcore) (4.14.0)\n",
            "Collecting portalocker (from iopath>=0.1.7->fvcore)\n",
            "  Downloading portalocker-3.2.0-py3-none-any.whl.metadata (8.7 kB)\n",
            "Downloading yacs-0.1.8-py3-none-any.whl (14 kB)\n",
            "Downloading portalocker-3.2.0-py3-none-any.whl (22 kB)\n",
            "Building wheels for collected packages: fvcore, iopath\n",
            "  Building wheel for fvcore (setup.py) ... \u001b[?25l\u001b[?25hdone\n",
            "  Created wheel for fvcore: filename=fvcore-0.1.5.post20221221-py3-none-any.whl size=61397 sha256=24f5eda534ee4e2466944ae2d95153929ff4386ab5085852c8f6852bbe196f3d\n",
            "  Stored in directory: /root/.cache/pip/wheels/65/71/95/3b8fde5c65c6e4a806e0867c1651dcc71a1cb2f3430e8f355f\n",
            "  Building wheel for iopath (setup.py) ... \u001b[?25l\u001b[?25hdone\n",
            "  Created wheel for iopath: filename=iopath-0.1.10-py3-none-any.whl size=31527 sha256=d162696ae0cdb93c7e54f4963584316d5060c4f6db854456738bc500c8ff7ac3\n",
            "  Stored in directory: /root/.cache/pip/wheels/ba/5e/16/6117f8fe7e9c0c161a795e10d94645ebcf301ccbd01f66d8ec\n",
            "Successfully built fvcore iopath\n",
            "Installing collected packages: yacs, portalocker, iopath, fvcore\n",
            "Successfully installed fvcore-0.1.5.post20221221 iopath-0.1.10 portalocker-3.2.0 yacs-0.1.8\n"
          ]
        }
      ]
    },
    {
      "cell_type": "code",
      "execution_count": 2,
      "metadata": {
        "id": "98rxeS-EayKH"
      },
      "outputs": [],
      "source": [
        "from tqdm import tqdm\n",
        "import random\n",
        "import pathlib\n",
        "import itertools\n",
        "import collections\n",
        "\n",
        "import os\n",
        "import cv2\n",
        "import numpy as np\n",
        "import pandas as pd\n",
        "\n",
        "import torch\n",
        "import torch.nn as nn\n",
        "import torch.optim as optim\n",
        "from torch.utils.data import Dataset, DataLoader\n",
        "from torchvision import models, transforms\n",
        "from sklearn.model_selection import train_test_split\n",
        "import matplotlib.pyplot as plt\n",
        "import seaborn as sns\n",
        "from sklearn.metrics import confusion_matrix, classification_report"
      ]
    },
    {
      "cell_type": "code",
      "source": [
        "import zipfile\n",
        "from google.colab import drive\n",
        "\n",
        "drive.mount('/content/drive/')"
      ],
      "metadata": {
        "colab": {
          "base_uri": "https://localhost:8080/"
        },
        "id": "5GL3g1qV8ApS",
        "outputId": "8490eeb9-35c8-46cd-bea6-bfea686232cb"
      },
      "execution_count": 3,
      "outputs": [
        {
          "output_type": "stream",
          "name": "stdout",
          "text": [
            "Mounted at /content/drive/\n"
          ]
        }
      ]
    },
    {
      "cell_type": "code",
      "source": [
        "zip_ref = zipfile.ZipFile(\"/content/drive/MyDrive/MultiSportsFootball.zip\", 'r')\n",
        "zip_ref.extractall(\"/content\")\n",
        "zip_ref.close()"
      ],
      "metadata": {
        "id": "Kshi-7iN8C45"
      },
      "execution_count": 4,
      "outputs": []
    },
    {
      "cell_type": "code",
      "execution_count": 5,
      "metadata": {
        "id": "R5w0qiBNUkZE"
      },
      "outputs": [],
      "source": [
        "random.seed(42)\n",
        "torch.manual_seed(42)\n",
        "np.random.seed(42)"
      ]
    },
    {
      "cell_type": "code",
      "execution_count": 6,
      "metadata": {
        "id": "14RlijWrhe-H"
      },
      "outputs": [],
      "source": [
        "class CONFIG:\n",
        "  epochs = 10\n",
        "  batch_size = 8\n",
        "  device = torch.device('cuda' if torch.cuda.is_available() else 'cpu')\n",
        "  learning_rate = 1e-4\n",
        "  num_workers = 2\n",
        "  classes = ['football short pass', 'football dribble', 'football diving', 'football throw']\n",
        "  videos_per_class = 50"
      ]
    },
    {
      "cell_type": "code",
      "source": [
        "class2label = {class_name: i for i, class_name in enumerate(CONFIG.classes)}\n",
        "label2class = {i: class_name for i, class_name in enumerate(CONFIG.classes)}"
      ],
      "metadata": {
        "id": "6_NFTEe2AuMc"
      },
      "execution_count": 7,
      "outputs": []
    },
    {
      "cell_type": "code",
      "source": [
        "def get_files_and_class_names(path, num_classes=None):\n",
        "    video_paths = list(path.glob('*/*.mp4'))\n",
        "    classes = [p.parent.name for p in video_paths]\n",
        "\n",
        "    path_per_class = collections.defaultdict(list)\n",
        "    for p, c in zip(video_paths, classes):\n",
        "        if c in CONFIG.classes:\n",
        "          path_per_class[c].append(p)\n",
        "\n",
        "    video_paths = []\n",
        "    classes = []\n",
        "    for c, paths in path_per_class.items():\n",
        "        if num_classes is not None:\n",
        "          num_class_examples = min(len(paths), num_classes)\n",
        "        else:\n",
        "          num_class_examples = len(paths)\n",
        "        paths = np.array(paths)\n",
        "        indexes = np.linspace(0, len(paths) - 1, num_class_examples, dtype=int)\n",
        "        class_paths = paths[indexes].tolist()\n",
        "        video_paths.extend(class_paths)\n",
        "        classes.extend([class2label[c] for _ in range(len(class_paths))])\n",
        "\n",
        "    return video_paths, classes"
      ],
      "metadata": {
        "id": "6j_5T63V7IZ_"
      },
      "execution_count": 8,
      "outputs": []
    },
    {
      "cell_type": "code",
      "execution_count": 9,
      "metadata": {
        "id": "K-otwRBVfqBE"
      },
      "outputs": [],
      "source": [
        "# Custom Dataset class\n",
        "class VideoDataset(Dataset):\n",
        "    def __init__(self, file_paths, targets, transform=None):\n",
        "        self.file_paths = file_paths\n",
        "        self.targets = targets\n",
        "        self.transform = transform\n",
        "\n",
        "    def __len__(self):\n",
        "        return len(self.file_paths)\n",
        "\n",
        "    def __getitem__(self, idx):\n",
        "        video_frames = frames_from_video_file(self.file_paths[idx],\n",
        "                                              n_frames=16, frame_step=4)\n",
        "        video_frames = torch.FloatTensor(video_frames)\n",
        "\n",
        "        if self.transform:\n",
        "          video_frames = torch.transpose(video_frames, 0, 1)\n",
        "          video_frames = self.transform(video_frames)\n",
        "          video_frames = torch.transpose(video_frames, 0, 1)\n",
        "\n",
        "        label = self.targets[idx]\n",
        "\n",
        "        return video_frames, torch.tensor(label, dtype=torch.long)\n",
        "\n",
        "def format_frames(frame, output_size):\n",
        "    \"\"\"Format frames to tensor with specified size\"\"\"\n",
        "    frame = cv2.resize(frame, output_size)\n",
        "    frame = frame / 255.0\n",
        "    return frame\n",
        "\n",
        "def frames_from_video_file(video_path, n_frames, output_size=(224, 224), frame_step=4):\n",
        "    \"\"\"Extract frames from video file\"\"\"\n",
        "    result = []\n",
        "    src = cv2.VideoCapture(str(video_path))\n",
        "\n",
        "    video_length = src.get(cv2.CAP_PROP_FRAME_COUNT)\n",
        "    need_length = 1 + (n_frames - 1) * frame_step\n",
        "\n",
        "    if need_length > video_length:\n",
        "        start = 0\n",
        "    else:\n",
        "        max_start = video_length - need_length\n",
        "        start = random.randint(0, max_start + 1)\n",
        "\n",
        "    src.set(cv2.CAP_PROP_POS_FRAMES, start)\n",
        "    ret, frame = src.read()\n",
        "    result.append(format_frames(frame, output_size))\n",
        "\n",
        "    for _ in range(n_frames - 1):\n",
        "        for _ in range(frame_step):\n",
        "            ret, frame = src.read()\n",
        "        if ret:\n",
        "            frame = format_frames(frame, output_size)\n",
        "            result.append(frame)\n",
        "        else:\n",
        "            result.append(np.zeros_like(result[0]))\n",
        "\n",
        "    src.release()\n",
        "\n",
        "    result = np.array(result)\n",
        "    result = np.transpose(result, (3, 0, 1, 2))  # (T, C, H, W) format\n",
        "    return result"
      ]
    },
    {
      "cell_type": "code",
      "source": [
        "# Model definition\n",
        "class VideoClassifier(nn.Module):\n",
        "    def __init__(self, num_classes):\n",
        "        super(VideoClassifier, self).__init__()\n",
        "        self.model = torch.hub.load('facebookresearch/hiera', model='hiera_base_plus_16x224', pretrained=True)\n",
        "        proj = self.model.head.projection\n",
        "        self.model.head.projection = nn.Linear(proj.in_features, num_classes)\n",
        "\n",
        "        # Freeze the pre-trained parameters\n",
        "        for param in self.model.parameters():\n",
        "            param.requires_grad = False\n",
        "\n",
        "        for param in self.model.blocks[4:].parameters():\n",
        "            param.requires_grad = True\n",
        "\n",
        "    def forward(self, x):\n",
        "        x = self.model(x)\n",
        "\n",
        "        return x\n"
      ],
      "metadata": {
        "id": "2UxlObt1qhrH"
      },
      "execution_count": 10,
      "outputs": []
    },
    {
      "cell_type": "code",
      "execution_count": 11,
      "metadata": {
        "id": "YKY7Rz13gLol"
      },
      "outputs": [],
      "source": [
        "# Training function\n",
        "def train_epoch(model, dataloader, criterion, optimizer, device):\n",
        "    model.train()\n",
        "    running_loss = 0.0\n",
        "    correct = 0\n",
        "    total = 0\n",
        "\n",
        "    for video, labels in tqdm(dataloader):\n",
        "        video, labels = video.to(device), labels.to(device)\n",
        "\n",
        "        optimizer.zero_grad()\n",
        "        outputs = model(video)\n",
        "        loss = criterion(outputs, labels)\n",
        "\n",
        "        loss.backward()\n",
        "        optimizer.step()\n",
        "\n",
        "        running_loss += loss.item()\n",
        "        _, predicted = outputs.max(1)\n",
        "        total += labels.size(0)\n",
        "        correct += predicted.eq(labels).sum().item()\n",
        "\n",
        "    epoch_loss = running_loss / len(dataloader)\n",
        "    epoch_acc = 100. * correct / total\n",
        "    return epoch_loss, epoch_acc\n",
        "\n",
        "# Validation function\n",
        "def validate(model, dataloader, criterion, device):\n",
        "    model.eval()\n",
        "    running_loss = 0.0\n",
        "    correct = 0\n",
        "    total = 0\n",
        "    all_preds = []\n",
        "    all_labels = []\n",
        "\n",
        "    with torch.no_grad():\n",
        "        for video, labels in tqdm(dataloader):\n",
        "            video, labels = video.to(device), labels.to(device)\n",
        "\n",
        "            outputs = model(video)\n",
        "            loss = criterion(outputs, labels)\n",
        "\n",
        "            running_loss += loss.item()\n",
        "            _, predicted = outputs.max(1)\n",
        "            total += labels.size(0)\n",
        "            correct += predicted.eq(labels).sum().item()\n",
        "\n",
        "            all_preds.extend(predicted.cpu().numpy())\n",
        "            all_labels.extend(labels.cpu().numpy())\n",
        "\n",
        "    val_loss = running_loss / len(dataloader)\n",
        "    val_acc = 100. * correct / total\n",
        "    return val_loss, val_acc, all_preds, all_labels"
      ]
    },
    {
      "cell_type": "code",
      "execution_count": 12,
      "metadata": {
        "id": "MT6Bq2bFg7sk"
      },
      "outputs": [],
      "source": [
        "def plot_confusion_matrix(y_true, y_pred, class_names):\n",
        "    cm = confusion_matrix(y_true, y_pred)\n",
        "    plt.figure(figsize=(len(class_names), len(class_names)))\n",
        "    sns.heatmap(cm, annot=True, fmt=\"d\", cmap=\"Blues\",\n",
        "                xticklabels=class_names, yticklabels=class_names)\n",
        "    plt.xlabel('Predicted')\n",
        "    plt.ylabel('True')\n",
        "    plt.show()"
      ]
    },
    {
      "cell_type": "code",
      "source": [
        "def plot_history(history):\n",
        "  \"\"\"\n",
        "    Plotting training and validation learning curves.\n",
        "\n",
        "    Args:\n",
        "      history: model history with all the metric measures\n",
        "  \"\"\"\n",
        "  fig, (ax1, ax2) = plt.subplots(2)\n",
        "\n",
        "  fig.set_size_inches(18.5, 10.5)\n",
        "\n",
        "  # Plot loss\n",
        "  ax1.set_title('Loss')\n",
        "  ax1.plot(history['train_loss'], label = 'train')\n",
        "  ax1.plot(history['val_loss'], label = 'test')\n",
        "  ax1.set_ylabel('Loss')\n",
        "\n",
        "  # Determine upper bound of y-axis\n",
        "  max_loss = max(history['train_loss'] + history['val_loss'])\n",
        "\n",
        "  ax1.set_ylim([0, np.ceil(max_loss)])\n",
        "  ax1.set_xlabel('Epoch')\n",
        "  ax1.legend(['Train', 'Validation'])\n",
        "\n",
        "  # Plot accuracy\n",
        "  ax2.set_title('Accuracy')\n",
        "  ax2.plot(history['train_acc'],  label = 'train')\n",
        "  ax2.plot(history['val_acc'], label = 'test')\n",
        "  ax2.set_ylabel('Accuracy')\n",
        "  ax2.set_ylim([0, 100])\n",
        "  ax2.set_xlabel('Epoch')\n",
        "  ax2.legend(['Train', 'Validation'])\n",
        "\n",
        "  plt.show()"
      ],
      "metadata": {
        "id": "_MWsIdqvXKyo"
      },
      "execution_count": 13,
      "outputs": []
    },
    {
      "cell_type": "code",
      "execution_count": 14,
      "metadata": {
        "id": "qDX_pxSa6c7f"
      },
      "outputs": [],
      "source": [
        "# Load dataset\n",
        "train_paths, train_classes = get_files_and_class_names(pathlib.Path('./train'))\n",
        "val_paths, val_classes = get_files_and_class_names(pathlib.Path('./valid'))\n",
        "\n",
        "# Create datasets and dataloaders\n",
        "\n",
        "train_dataset = VideoDataset(train_paths, train_classes)\n",
        "val_dataset = VideoDataset(val_paths, val_classes)\n",
        "\n",
        "train_loader = DataLoader(\n",
        "    train_dataset,\n",
        "    batch_size=CONFIG.batch_size,\n",
        "    shuffle=True,\n",
        "    num_workers=CONFIG.num_workers\n",
        ")\n",
        "\n",
        "val_loader = DataLoader(\n",
        "    val_dataset,\n",
        "    batch_size=CONFIG.batch_size,\n",
        "    shuffle=False,\n",
        "    num_workers=CONFIG.num_workers\n",
        ")"
      ]
    },
    {
      "cell_type": "code",
      "execution_count": 15,
      "metadata": {
        "id": "D__QLtmgizvf"
      },
      "outputs": [],
      "source": [
        "# Main training loop\n",
        "def main(model):\n",
        "    criterion = nn.CrossEntropyLoss()\n",
        "    optimizer = optim.Adam(model.parameters(), lr=CONFIG.learning_rate)\n",
        "    scheduler = optim.lr_scheduler.ReduceLROnPlateau(\n",
        "        optimizer, mode='min', patience=3, factor=0.5\n",
        "    )\n",
        "\n",
        "    # Training loop\n",
        "    best_val_acc = 0\n",
        "    history = {'train_loss': [], 'train_acc': [], 'val_loss': [], 'val_acc': []}\n",
        "\n",
        "    for epoch in range(CONFIG.epochs):\n",
        "        print(f'Epoch {epoch+1}/{CONFIG.epochs}')\n",
        "\n",
        "        train_loss, train_acc = train_epoch(\n",
        "            model, train_loader, criterion, optimizer, CONFIG.device\n",
        "        )\n",
        "\n",
        "        val_loss, val_acc, all_preds, all_labels = validate(\n",
        "            model, val_loader, criterion, CONFIG.device\n",
        "        )\n",
        "\n",
        "        # Update learning rate\n",
        "        scheduler.step(val_loss)\n",
        "\n",
        "\n",
        "        # Save best model\n",
        "        if val_acc > best_val_acc:\n",
        "            best_val_acc = val_acc\n",
        "            checkpoint_path = 'best.pt'\n",
        "\n",
        "            torch.save({\n",
        "            'epoch': epoch + 1,\n",
        "            'model_state_dict': model.state_dict(),\n",
        "            }, checkpoint_path)\n",
        "\n",
        "        torch.save({\n",
        "          'epoch': epoch + 1,\n",
        "          'model_state_dict': model.state_dict(),\n",
        "          'optimizer_state_dict': optimizer.state_dict(),\n",
        "          'scheduler_state_dict': scheduler.state_dict(),\n",
        "          }, 'last.pt')\n",
        "\n",
        "        # Update history\n",
        "        history['train_loss'].append(train_loss)\n",
        "        history['train_acc'].append(train_acc)\n",
        "        history['val_loss'].append(val_loss)\n",
        "        history['val_acc'].append(val_acc)\n",
        "\n",
        "        print(f'Train Loss: {train_loss:.4f} Train Acc: {train_acc:.2f}%')\n",
        "        print(f'Val Loss: {val_loss:.4f} Val Acc: {val_acc:.2f}%')\n",
        "\n",
        "    return history"
      ]
    },
    {
      "cell_type": "code",
      "execution_count": 16,
      "metadata": {
        "id": "YhtNefGl1Sqh",
        "colab": {
          "base_uri": "https://localhost:8080/"
        },
        "outputId": "902eef23-a2c4-4e5d-da02-b60cd62e664a"
      },
      "outputs": [
        {
          "output_type": "stream",
          "name": "stderr",
          "text": [
            "Downloading: \"https://github.com/facebookresearch/hiera/zipball/main\" to /root/.cache/torch/hub/main.zip\n",
            "/usr/local/lib/python3.11/dist-packages/timm/models/layers/__init__.py:48: FutureWarning: Importing from timm.models.layers is deprecated, please import via timm.layers\n",
            "  warnings.warn(f\"Importing from {__name__} is deprecated, please import via timm.layers\", FutureWarning)\n",
            "Downloading: \"https://dl.fbaipublicfiles.com/hiera/hiera_base_plus_16x224.pth\" to /root/.cache/torch/hub/checkpoints/hiera_base_plus_16x224.pth\n",
            "100%|██████████| 794M/794M [00:19<00:00, 43.7MB/s]\n"
          ]
        }
      ],
      "source": [
        "# Initialize model\n",
        "model = VideoClassifier(num_classes=len(CONFIG.classes)).to(CONFIG.device)"
      ]
    },
    {
      "cell_type": "code",
      "source": [
        "history = main(model)"
      ],
      "metadata": {
        "colab": {
          "base_uri": "https://localhost:8080/"
        },
        "id": "JFCRTQ2LRh-q",
        "outputId": "56324668-4cfa-48d8-be01-55f742a5dff8"
      },
      "execution_count": 17,
      "outputs": [
        {
          "output_type": "stream",
          "name": "stdout",
          "text": [
            "Epoch 1/10\n"
          ]
        },
        {
          "output_type": "stream",
          "name": "stderr",
          "text": [
            "100%|██████████| 302/302 [03:14<00:00,  1.56it/s]\n",
            "100%|██████████| 106/106 [00:30<00:00,  3.43it/s]\n"
          ]
        },
        {
          "output_type": "stream",
          "name": "stdout",
          "text": [
            "Train Loss: 0.4095 Train Acc: 88.07%\n",
            "Val Loss: 0.8671 Val Acc: 92.28%\n",
            "Epoch 2/10\n"
          ]
        },
        {
          "output_type": "stream",
          "name": "stderr",
          "text": [
            "100%|██████████| 302/302 [03:12<00:00,  1.57it/s]\n",
            "100%|██████████| 106/106 [00:30<00:00,  3.44it/s]\n"
          ]
        },
        {
          "output_type": "stream",
          "name": "stdout",
          "text": [
            "Train Loss: 0.3198 Train Acc: 90.72%\n",
            "Val Loss: 0.8478 Val Acc: 91.69%\n",
            "Epoch 3/10\n"
          ]
        },
        {
          "output_type": "stream",
          "name": "stderr",
          "text": [
            "100%|██████████| 302/302 [03:12<00:00,  1.57it/s]\n",
            "100%|██████████| 106/106 [00:30<00:00,  3.45it/s]\n"
          ]
        },
        {
          "output_type": "stream",
          "name": "stdout",
          "text": [
            "Train Loss: 0.2592 Train Acc: 92.34%\n",
            "Val Loss: 0.8400 Val Acc: 92.87%\n",
            "Epoch 4/10\n"
          ]
        },
        {
          "output_type": "stream",
          "name": "stderr",
          "text": [
            "100%|██████████| 302/302 [03:12<00:00,  1.57it/s]\n",
            "100%|██████████| 106/106 [00:30<00:00,  3.43it/s]\n"
          ]
        },
        {
          "output_type": "stream",
          "name": "stdout",
          "text": [
            "Train Loss: 0.2244 Train Acc: 93.37%\n",
            "Val Loss: 0.8479 Val Acc: 93.59%\n",
            "Epoch 5/10\n"
          ]
        },
        {
          "output_type": "stream",
          "name": "stderr",
          "text": [
            "100%|██████████| 302/302 [03:12<00:00,  1.57it/s]\n",
            "100%|██████████| 106/106 [00:30<00:00,  3.45it/s]\n"
          ]
        },
        {
          "output_type": "stream",
          "name": "stdout",
          "text": [
            "Train Loss: 0.1970 Train Acc: 94.12%\n",
            "Val Loss: 0.8299 Val Acc: 95.25%\n",
            "Epoch 6/10\n"
          ]
        },
        {
          "output_type": "stream",
          "name": "stderr",
          "text": [
            "100%|██████████| 302/302 [03:12<00:00,  1.57it/s]\n",
            "100%|██████████| 106/106 [00:30<00:00,  3.44it/s]\n"
          ]
        },
        {
          "output_type": "stream",
          "name": "stdout",
          "text": [
            "Train Loss: 0.1748 Train Acc: 94.62%\n",
            "Val Loss: 0.8333 Val Acc: 93.71%\n",
            "Epoch 7/10\n"
          ]
        },
        {
          "output_type": "stream",
          "name": "stderr",
          "text": [
            "100%|██████████| 302/302 [03:12<00:00,  1.57it/s]\n",
            "100%|██████████| 106/106 [00:30<00:00,  3.42it/s]\n"
          ]
        },
        {
          "output_type": "stream",
          "name": "stdout",
          "text": [
            "Train Loss: 0.1432 Train Acc: 95.16%\n",
            "Val Loss: 0.8340 Val Acc: 92.76%\n",
            "Epoch 8/10\n"
          ]
        },
        {
          "output_type": "stream",
          "name": "stderr",
          "text": [
            "100%|██████████| 302/302 [03:12<00:00,  1.57it/s]\n",
            "100%|██████████| 106/106 [00:30<00:00,  3.45it/s]\n"
          ]
        },
        {
          "output_type": "stream",
          "name": "stdout",
          "text": [
            "Train Loss: 0.1210 Train Acc: 95.90%\n",
            "Val Loss: 0.8997 Val Acc: 86.70%\n",
            "Epoch 9/10\n"
          ]
        },
        {
          "output_type": "stream",
          "name": "stderr",
          "text": [
            "100%|██████████| 302/302 [03:12<00:00,  1.57it/s]\n",
            "100%|██████████| 106/106 [00:30<00:00,  3.43it/s]\n"
          ]
        },
        {
          "output_type": "stream",
          "name": "stdout",
          "text": [
            "Train Loss: 0.1034 Train Acc: 96.48%\n",
            "Val Loss: 0.8199 Val Acc: 94.18%\n",
            "Epoch 10/10\n"
          ]
        },
        {
          "output_type": "stream",
          "name": "stderr",
          "text": [
            "100%|██████████| 302/302 [03:12<00:00,  1.57it/s]\n",
            "100%|██████████| 106/106 [00:30<00:00,  3.43it/s]\n"
          ]
        },
        {
          "output_type": "stream",
          "name": "stdout",
          "text": [
            "Train Loss: 0.1061 Train Acc: 96.73%\n",
            "Val Loss: 0.8209 Val Acc: 93.47%\n"
          ]
        }
      ]
    },
    {
      "cell_type": "code",
      "source": [
        "model.load_state_dict(torch.load('best.pt', weights_only=True, map_location=CONFIG.device)['model_state_dict'])"
      ],
      "metadata": {
        "colab": {
          "base_uri": "https://localhost:8080/"
        },
        "id": "zuVOXVlOmnj2",
        "outputId": "eaed3dbc-b033-4eb6-9c69-135c7ba5bfac"
      },
      "execution_count": 18,
      "outputs": [
        {
          "output_type": "execute_result",
          "data": {
            "text/plain": [
              "<All keys matched successfully>"
            ]
          },
          "metadata": {},
          "execution_count": 18
        }
      ]
    },
    {
      "cell_type": "code",
      "source": [
        "criterion = nn.CrossEntropyLoss()\n",
        "\n",
        "val_loss, val_acc, all_preds, all_labels = validate(\n",
        "  model, val_loader, criterion, CONFIG.device\n",
        ")\n",
        "\n",
        "plot_confusion_matrix(all_labels, all_preds, CONFIG.classes)"
      ],
      "metadata": {
        "colab": {
          "base_uri": "https://localhost:8080/",
          "height": 520
        },
        "id": "Si2xvWf4-QiO",
        "outputId": "93514923-ae30-4254-bbfb-1d7bf9eb6621"
      },
      "execution_count": 19,
      "outputs": [
        {
          "output_type": "stream",
          "name": "stderr",
          "text": [
            "100%|██████████| 106/106 [00:30<00:00,  3.43it/s]\n"
          ]
        },
        {
          "output_type": "display_data",
          "data": {
            "text/plain": [
              "<Figure size 400x400 with 2 Axes>"
            ],
            "image/png": "[encoded data removed]"
          },
          "metadata": {}
        }
      ]
    },
    {
      "cell_type": "code",
      "source": [
        "plot_history(history)"
      ],
      "metadata": {
        "colab": {
          "base_uri": "https://localhost:8080/",
          "height": 676
        },
        "id": "H5CVIotPZWK3",
        "outputId": "a9b83e30-fec3-44b4-f5b6-b0ced559ac4a"
      },
      "execution_count": 20,
      "outputs": [
        {
          "output_type": "display_data",
          "data": {
            "text/plain": [
              "<Figure size 1850x1050 with 2 Axes>"
            ],
            "image/png": "[encoded data removed]"
          },
          "metadata": {}
        }
      ]
    },
    {
      "cell_type": "code",
      "source": [
        "def calculate_classification_metrics(y_actual, y_pred, labels):\n",
        "  \"\"\"\n",
        "    Calculate the precision and recall of a classification model using the ground truth and\n",
        "    predicted values.\n",
        "\n",
        "    Args:\n",
        "      y_actual: Ground truth labels.\n",
        "      y_pred: Predicted labels.\n",
        "      labels: List of classification labels.\n",
        "\n",
        "    Return:\n",
        "      Precision and recall measures.\n",
        "  \"\"\"\n",
        "  cm = confusion_matrix(y_actual, y_pred)\n",
        "  tp = np.diag(cm) # Diagonal represents true positives\n",
        "  precision = dict()\n",
        "  recall = dict()\n",
        "  f1 = dict()\n",
        "\n",
        "  macroF1 = 0\n",
        "  macroP = 0\n",
        "  macroR = 0\n",
        "\n",
        "  for i in range(len(labels)):\n",
        "    col = cm[:, i]\n",
        "    fp = np.sum(col) - tp[i] # Sum of column minus true positive is false negative\n",
        "\n",
        "    row = cm[i, :]\n",
        "    fn = np.sum(row) - tp[i] # Sum of row minus true positive, is false negative\n",
        "\n",
        "    if (tp[i] + fp) == 0:\n",
        "      precision[labels[i]] = 0\n",
        "    else:\n",
        "      precision[labels[i]] = tp[i] / (tp[i] + fp) # Precision\n",
        "\n",
        "    if (tp[i] + fn) == 0:\n",
        "      recall[labels[i]] = 0\n",
        "    else:\n",
        "      recall[labels[i]] = tp[i] / (tp[i] + fn) # Recall\n",
        "\n",
        "    if (precision[labels[i]] + recall[labels[i]]) == 0:\n",
        "      f1[labels[i]] = 0\n",
        "    else:\n",
        "      f1[labels[i]] = 2 * (precision[labels[i]] * recall[labels[i]]) / (precision[labels[i]] + recall[labels[i]])\n",
        "\n",
        "    macroF1 += f1[labels[i]]\n",
        "    macroP += precision[labels[i]]\n",
        "    macroR += recall[labels[i]]\n",
        "\n",
        "  return precision, recall, f1, macroF1/len(labels), macroP/len(labels), macroR/len(labels)"
      ],
      "metadata": {
        "id": "DT-Nrl2vkMzy"
      },
      "execution_count": 21,
      "outputs": []
    },
    {
      "cell_type": "code",
      "source": [
        "precision, recall, f1, macroF1, macroP, macroR = calculate_classification_metrics(all_labels, all_preds, CONFIG.classes)"
      ],
      "metadata": {
        "id": "GRqmG0c5lpNv"
      },
      "execution_count": 22,
      "outputs": []
    },
    {
      "cell_type": "code",
      "source": [
        "precision"
      ],
      "metadata": {
        "colab": {
          "base_uri": "https://localhost:8080/"
        },
        "id": "s1IuClAWmDnT",
        "outputId": "c1df7eba-958e-4bf9-f803-b8395cfe5a88"
      },
      "execution_count": 23,
      "outputs": [
        {
          "output_type": "execute_result",
          "data": {
            "text/plain": [
              "{'football short pass': np.float64(0.9550224887556222),\n",
              " 'football dribble': np.float64(0.9626865671641791),\n",
              " 'football diving': np.float64(0.8823529411764706),\n",
              " 'football throw': np.float64(0.8571428571428571)}"
            ]
          },
          "metadata": {},
          "execution_count": 23
        }
      ]
    },
    {
      "cell_type": "code",
      "source": [
        "recall"
      ],
      "metadata": {
        "colab": {
          "base_uri": "https://localhost:8080/"
        },
        "id": "3weWUGzHmF5g",
        "outputId": "890cfb9e-97f0-43b1-835e-1840659158f2"
      },
      "execution_count": 24,
      "outputs": [
        {
          "output_type": "execute_result",
          "data": {
            "text/plain": [
              "{'football short pass': np.float64(0.9906687402799378),\n",
              " 'football dribble': np.float64(0.9214285714285714),\n",
              " 'football diving': np.float64(0.7692307692307693),\n",
              " 'football throw': np.float64(0.3)}"
            ]
          },
          "metadata": {},
          "execution_count": 24
        }
      ]
    },
    {
      "cell_type": "code",
      "source": [
        "f1"
      ],
      "metadata": {
        "colab": {
          "base_uri": "https://localhost:8080/"
        },
        "id": "pvSF0JgEpRub",
        "outputId": "69c19f4b-1c4c-439d-83d5-a0ba5a9fd79f"
      },
      "execution_count": 25,
      "outputs": [
        {
          "output_type": "execute_result",
          "data": {
            "text/plain": [
              "{'football short pass': np.float64(0.9725190839694657),\n",
              " 'football dribble': np.float64(0.9416058394160584),\n",
              " 'football diving': np.float64(0.8219178082191781),\n",
              " 'football throw': np.float64(0.4444444444444444)}"
            ]
          },
          "metadata": {},
          "execution_count": 25
        }
      ]
    },
    {
      "cell_type": "code",
      "source": [
        "print(f'Macro F1: {macroF1:.4f}')\n",
        "print(f'Macro Precision: {macroP:.4f}')\n",
        "print(f'Macro Recall: {macroR:.4f}')"
      ],
      "metadata": {
        "colab": {
          "base_uri": "https://localhost:8080/"
        },
        "id": "00he_-lqF7VF",
        "outputId": "5c15a727-c71f-45c2-8a6f-1bbbf16f048a"
      },
      "execution_count": 26,
      "outputs": [
        {
          "output_type": "stream",
          "name": "stdout",
          "text": [
            "Macro F1: 0.7951\n",
            "Macro Precision: 0.9143\n",
            "Macro Recall: 0.7453\n"
          ]
        }
      ]
    }
  ],
  "metadata": {
    "colab": {
      "provenance": [],
      "gpuType": "A100"
    },
    "kernelspec": {
      "display_name": "Python 3",
      "name": "python3"
    },
    "language_info": {
      "codemirror_mode": {
        "name": "ipython",
        "version": 3
      },
      "file_extension": ".py",
      "mimetype": "text/x-python",
      "name": "python",
      "nbconvert_exporter": "python",
      "pygments_lexer": "ipython3",
      "version": "3.11.9"
    },
    "accelerator": "GPU"
  },
  "nbformat": 4,
  "nbformat_minor": 0
}